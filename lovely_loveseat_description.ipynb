{
 "cells": [
  {
   "cell_type": "code",
   "execution_count": 3,
   "id": "edffce56",
   "metadata": {},
   "outputs": [],
   "source": [
    "lovely_loveseat_description = \"Lovely Loveseat. Tufted polyester blend on wood. 32 inches high x 40 inches wide x 30 inches deep. Red or white.\""
   ]
  },
  {
   "cell_type": "code",
   "execution_count": 4,
   "id": "7978b628",
   "metadata": {},
   "outputs": [],
   "source": [
    " lovely_loveseat_price = 254.00"
   ]
  },
  {
   "cell_type": "code",
   "execution_count": 6,
   "id": "2f8e16a9",
   "metadata": {},
   "outputs": [],
   "source": [
    "stylish_settee_description = \"Stylish Settee. Faux leather on birch. 29.50 inches high x 54.75 inches wide x 28 inches deep. Black.\""
   ]
  },
  {
   "cell_type": "code",
   "execution_count": 7,
   "id": "e6cd3da7",
   "metadata": {},
   "outputs": [],
   "source": [
    "stylish_settee_price = 180.50"
   ]
  },
  {
   "cell_type": "code",
   "execution_count": 8,
   "id": "5ef94453",
   "metadata": {},
   "outputs": [],
   "source": [
    "luxurious_lamp_description = \"Luxurious Lamp. Glass and iron. 36 inches tall. Brown with cream shade.\""
   ]
  },
  {
   "cell_type": "code",
   "execution_count": 9,
   "id": "965103cd",
   "metadata": {},
   "outputs": [],
   "source": [
    "luxurious_lamp_price = 52.15"
   ]
  },
  {
   "cell_type": "code",
   "execution_count": 27,
   "id": "19312aac",
   "metadata": {},
   "outputs": [],
   "source": [
    "sales_tax = 0.088"
   ]
  },
  {
   "cell_type": "code",
   "execution_count": 28,
   "id": "3dc960ec",
   "metadata": {},
   "outputs": [],
   "source": [
    "customer_one_total = 0 "
   ]
  },
  {
   "cell_type": "code",
   "execution_count": null,
   "id": "e136d6aa",
   "metadata": {},
   "outputs": [],
   "source": [
    "customer_one_itemization = \"\" "
   ]
  },
  {
   "cell_type": "code",
   "execution_count": 35,
   "id": "ba529ea3",
   "metadata": {},
   "outputs": [],
   "source": [
    "customer_one_total =  lovely_loveseat_price"
   ]
  },
  {
   "cell_type": "code",
   "execution_count": 36,
   "id": "ef766bf4",
   "metadata": {},
   "outputs": [],
   "source": [
    "customer_one_itemization = lovely_loveseat_description"
   ]
  },
  {
   "cell_type": "code",
   "execution_count": 37,
   "id": "6ff9716c",
   "metadata": {},
   "outputs": [],
   "source": [
    "customer_one_total =  lovely_loveseat_price + luxurious_lamp_price"
   ]
  },
  {
   "cell_type": "code",
   "execution_count": 38,
   "id": "cb661d1a",
   "metadata": {},
   "outputs": [],
   "source": [
    "customer_one_itemization = lovely_loveseat_description + luxurious_lamp_description"
   ]
  },
  {
   "cell_type": "code",
   "execution_count": 39,
   "id": "55e34ed2",
   "metadata": {},
   "outputs": [],
   "source": [
    "customer_one_tax = customer_one_total * sales_tax"
   ]
  },
  {
   "cell_type": "code",
   "execution_count": 40,
   "id": "c9ce9a7f",
   "metadata": {},
   "outputs": [
    {
     "name": "stdout",
     "output_type": "stream",
     "text": [
      "Customer One Items:\n",
      "Lovely Loveseat. Tufted polyester blend on wood. 32 inches high x 40 inches wide x 30 inches deep. Red or white.Luxurious Lamp. Glass and iron. 36 inches tall. Brown with cream shade.\n",
      "Customer One Total:\n",
      "333.09119999999996\n"
     ]
    }
   ],
   "source": [
    "print(\"Customer One Items:\")\n",
    "print(customer_one_itemization)\n",
    "print(\"Customer One Total:\")\n",
    "print(customer_one_total + customer_one_tax)"
   ]
  },
  {
   "cell_type": "code",
   "execution_count": null,
   "id": "aa4f7251",
   "metadata": {},
   "outputs": [],
   "source": []
  }
 ],
 "metadata": {
  "kernelspec": {
   "display_name": "Python 3 (ipykernel)",
   "language": "python",
   "name": "python3"
  },
  "language_info": {
   "codemirror_mode": {
    "name": "ipython",
    "version": 3
   },
   "file_extension": ".py",
   "mimetype": "text/x-python",
   "name": "python",
   "nbconvert_exporter": "python",
   "pygments_lexer": "ipython3",
   "version": "3.11.4"
  }
 },
 "nbformat": 4,
 "nbformat_minor": 5
}
